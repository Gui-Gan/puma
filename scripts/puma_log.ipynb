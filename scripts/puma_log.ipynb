{
 "cells": [
  {
   "cell_type": "code",
   "execution_count": 3,
   "metadata": {
    "collapsed": true
   },
   "outputs": [],
   "source": [
    "#!/usr/bin/env python"
   ]
  },
  {
   "cell_type": "markdown",
   "metadata": {},
   "source": [
    "# PuMA log"
   ]
  },
  {
   "cell_type": "markdown",
   "metadata": {},
   "source": [
    "### Python script for .log file generation.\n",
    "\n",
    "This script is intended to gain control and check systematics in all PuMA observations. \n",
    "\n",
    "Can be adapted for particular projects. \n",
    "\n",
    "It is expected to run after the pulsar_reduc routine. It works under the pulsar_reduc organisation scheme: /pulsar_name/yearmonthday/AX/obs# where AX could be A1 or A2 with (a) pulsar .fil files (b) calibration .fil files (c) .pfd files (d) .mask files.\n",
    "\n",
    "\n",
    "Version: 0.1\n",
    "Date: 1/4/19\n",
    "authors: Luciano Combi"
   ]
  },
  {
   "cell_type": "code",
   "execution_count": 1,
   "metadata": {
    "collapsed": true,
    "scrolled": true
   },
   "outputs": [],
   "source": [
    "# Import standard packages\n",
    "\n",
    "import numpy as np\n",
    "import matplotlib.pyplot as mp\n",
    "import astropy \n",
    "from astropy.io import ascii\n",
    "from astropy.table import Table, Column, MaskedColumn\n",
    "from astropy import units as u\n",
    "import subprocess\n",
    "# We will need to execute shell scripts\n",
    "\n",
    "import sys \n",
    "import glob\n",
    "import os\n",
    "sys.path.append('/opt/pulsar/')\n",
    "import shutil\n",
    "import getopt\n",
    "\n",
    "\n",
    "# Import psrchive and rfifind libraries\n",
    "\n",
    "import psrchive \n",
    "import rfifind\n",
    "from sigproc import *\n",
    "from os.path import dirname\n",
    "sys.path.append('/opt/pulsar/PyPulse/pypulse/')"
   ]
  },
  {
   "cell_type": "code",
   "execution_count": 2,
   "metadata": {
    "scrolled": true
   },
   "outputs": [
    {
     "name": "stderr",
     "output_type": "stream",
     "text": [
      "usage: ipykernel_launcher.py [-h] [-n]\n",
      "ipykernel_launcher.py: error: unrecognized arguments: -f /home/jovyan/.local/share/jupyter/runtime/kernel-7c9938d6-00d6-45e8-a700-0f0a88d82a43.json\n"
     ]
    },
    {
     "ename": "SystemExit",
     "evalue": "2",
     "output_type": "error",
     "traceback": [
      "An exception has occurred, use %tb to see the full traceback.\n",
      "\u001b[0;31mSystemExit\u001b[0m\u001b[0;31m:\u001b[0m 2\n"
     ]
    },
    {
     "name": "stderr",
     "output_type": "stream",
     "text": [
      "/opt/conda/envs/python2/lib/python2.7/site-packages/IPython/core/interactiveshell.py:2889: UserWarning: To exit: use 'exit', 'quit', or Ctrl-D.\n",
      "  warn(\"To exit: use 'exit', 'quit', or Ctrl-D.\", stacklevel=1)\n"
     ]
    }
   ],
   "source": [
    "# Let us enable a no timing option and a help. Future options of calibration an pazi\n",
    "\n",
    "import argparse\n",
    "parser = argparse.ArgumentParser()\n",
    "parser.add_argument(\"-n\", \"--notoa\", action=\"store_true\",\n",
    "                    help=\"save log and moves folders without obtaining TOAs\")\n",
    "args = parser.parse_args()\n",
    "\n",
    "if args.notoa:\n",
    "    antenna = 'N'\n",
    "    print('Saving log and moving files without obtaining toas')\n",
    "else: antenna = 'Y'"
   ]
  },
  {
   "cell_type": "code",
   "execution_count": 2,
   "metadata": {
    "collapsed": true
   },
   "outputs": [
    {
     "ename": "IndexError",
     "evalue": "list index out of range",
     "output_type": "error",
     "traceback": [
      "\u001b[0;31m\u001b[0m",
      "\u001b[0;31mIndexError\u001b[0mTraceback (most recent call last)",
      "\u001b[0;32m<ipython-input-2-59bee63e19eb>\u001b[0m in \u001b[0;36m<module>\u001b[0;34m()\u001b[0m\n\u001b[1;32m      2\u001b[0m \u001b[0;34m\u001b[0m\u001b[0m\n\u001b[1;32m      3\u001b[0m \u001b[0mrawname\u001b[0m \u001b[0;34m=\u001b[0m \u001b[0mglob\u001b[0m\u001b[0;34m.\u001b[0m\u001b[0mglob\u001b[0m\u001b[0;34m(\u001b[0m\u001b[0;34m'*.fil'\u001b[0m\u001b[0;34m)\u001b[0m\u001b[0;34m\u001b[0m\u001b[0m\n\u001b[0;32m----> 4\u001b[0;31m \u001b[0mfirstfil\u001b[0m\u001b[0;34m=\u001b[0m \u001b[0mread_header\u001b[0m\u001b[0;34m(\u001b[0m\u001b[0mrawname\u001b[0m\u001b[0;34m[\u001b[0m\u001b[0;36m0\u001b[0m\u001b[0;34m]\u001b[0m\u001b[0;34m)\u001b[0m\u001b[0;34m[\u001b[0m\u001b[0;36m0\u001b[0m\u001b[0;34m]\u001b[0m\u001b[0;34m\u001b[0m\u001b[0m\n\u001b[0m",
      "\u001b[0;31mIndexError\u001b[0m: list index out of range"
     ]
    }
   ],
   "source": [
    "# Extract number of parts of raw files\n",
    "\n",
    "rawname = glob.glob('*.fil')\n",
    "firstfil= read_header(rawname[0])[0]"
   ]
  },
  {
   "cell_type": "code",
   "execution_count": 5,
   "metadata": {
    "collapsed": true
   },
   "outputs": [],
   "source": [
    "# Observation details (from the first filterbank if there are more than one)\n",
    "\n",
    "#Formating for coordinates:\n",
    "\n",
    "def coord_format():\n",
    "    \n",
    "    scoord=\"\"\n",
    "    ra = str(firstfil['src_raj'])\n",
    "    dec = str(firstfil['src_dej'])\n",
    "    \n",
    "    for coord in ra, dec:\n",
    "        \n",
    "        pos = coord.find('.')\n",
    "     \n",
    "        if pos ==5:\n",
    "            coord = '0'+coord[:pos-4]+':'+coord[pos-4:pos-2]+':'+coord[pos-2:]\n",
    "        else:\n",
    "            coord= coord[:pos-4]+':'+coord[pos-4:pos-2]+':'+coord[pos-2:]\n",
    "            \n",
    "        scoord+= coord\n",
    "    \n",
    "    return scoord\n",
    "\n",
    "# Parameters of observation\n",
    "\n",
    "telid = firstfil['telescope_id']\n",
    "scoord = coord_format()\n",
    "backend = firstfil['machine_id']\n",
    "tsample = firstfil['tsamp']\n",
    "tstart = firstfil['tstart']\n",
    "sourceantenna = firstfil['rawdatafile']\n",
    "pulsar= sourceantenna[:len(sourceantenna)-3]"
   ]
  },
  {
   "cell_type": "code",
   "execution_count": 6,
   "metadata": {
    "collapsed": true
   },
   "outputs": [],
   "source": [
    "# Open pfd files and masks.\n",
    "\n",
    "pfd = glob.glob('*.pfd')[0]\n",
    "maskname = glob.glob('*.mask')[0]"
   ]
  },
  {
   "cell_type": "code",
   "execution_count": 7,
   "metadata": {},
   "outputs": [
    {
     "data": {
      "text/plain": [
       "'prepfold_2019-03-03T20:09:36_PSR_0437-4715.pfd\\nUpdating prepfold_2019-03-03T20:09:36_PSR_0437-4715.pfd ... done\\n'"
      ]
     },
     "execution_count": 7,
     "metadata": {},
     "output_type": "execute_result"
    }
   ],
   "source": [
    "# Correct metadata information. We should include a proper name function here (e.g. for vela)\n",
    "\n",
    "# Coordinates\n",
    "subprocess.check_output(['psredit', '-c','coord='+scoord,'-m',pfd]) \n",
    "# Source\n",
    "subprocess.check_output(['psredit', '-c','name='+pulsar,'-m',pfd]) \n",
    "# Reciever\n",
    "if telid == '19':\n",
    "    subprocess.check_output(['psredit', '-c','rcvr:name=AI','-m',pfd]) \n",
    "else:\n",
    "    subprocess.check_output(['psredit', '-c','rcvr:name=AII','-m',pfd]) \n",
    "# Backend\n",
    "subprocess.check_output(['psredit', '-c','be:name=Ettus-B120','-m',pfd]) \n",
    "# Proyect\n",
    "subprocess.check_output(['psredit', '-c','obs:projid=PuMA','-m',pfd]) "
   ]
  },
  {
   "cell_type": "code",
   "execution_count": 8,
   "metadata": {
    "collapsed": true
   },
   "outputs": [],
   "source": [
    "# In this step we should include a zapping option and calibration. \n",
    "# Since we do not have yet two polarization we skip calibration."
   ]
  },
  {
   "cell_type": "code",
   "execution_count": 9,
   "metadata": {
    "collapsed": true
   },
   "outputs": [],
   "source": [
    "# Save all relevant data from the pfd using rfifind and psrchive.\n",
    "    \n",
    "arch = psrchive.Archive_load(pfd)\n",
    "maskrfi = rfifind.rfifind(maskname)\n",
    "mjd = arch.start_time()"
   ]
  },
  {
   "cell_type": "code",
   "execution_count": 10,
   "metadata": {
    "collapsed": true
   },
   "outputs": [],
   "source": [
    "#Usable % of the observations due to RFI. We do not take into account pazi filters.\n",
    "\n",
    "maskrfi.read_bytemask()\n",
    "maskarr = maskrfi.bytemask\n",
    "nbadint = float(np.count_nonzero(maskarr))\n",
    "ntotalint = float(len(maskrfi.goodints))*float(len(maskrfi.freqs))"
   ]
  },
  {
   "cell_type": "code",
   "execution_count": 11,
   "metadata": {
    "collapsed": true,
    "scrolled": true
   },
   "outputs": [],
   "source": [
    "# Parameters (we also have nobs and coords)\n",
    "\n",
    "datemjd = [mjd.in_days()]\n",
    "pulsar = sourceantenna[:len(sourceantenna)-3]\n",
    "antenna = [arch.get_receiver_name()]\n",
    "bw = [arch.get_bandwidth()]\n",
    "freq = [arch.get_centre_frequency()]\n",
    "nbin = [arch.get_nbin()]\n",
    "nchan = [arch.get_nchan()]\n",
    "pol = [arch.get_npol()]\n",
    "calyn = [arch.get_poln_calibrated()]\n",
    "snr = [subprocess.check_output(['psrstat','-jTFp','-Q','-q','-c','snr',pfd]).strip('\\n') .strip(' ')]\n",
    "obstime = [arch.integration_length()/60]\n",
    "rfitime = [maskrfi.dtint]\n",
    "usablepercent = [nbadint/ntotalint*100]"
   ]
  },
  {
   "cell_type": "code",
   "execution_count": 13,
   "metadata": {
    "collapsed": true
   },
   "outputs": [],
   "source": [
    "#Define table\n",
    "logvar = [pulsar, \n",
    "          tstart, \n",
    "          antenna, \n",
    "          scoord, \n",
    "          bw, \n",
    "          freq,\n",
    "          tsample,\n",
    "          nbin, \n",
    "          nchan, \n",
    "          pol, \n",
    "          calyn, \n",
    "          snr, \n",
    "          obstime,\n",
    "          datemjd,\n",
    "          rfitime, \n",
    "          usablepercent,\n",
    "          backend]\n",
    "lognames = ['Name of pulsar', \n",
    "            'Date', \n",
    "            'Coordinates', \n",
    "            'Antenna', \n",
    "            'BW', \n",
    "            'Freq',\n",
    "            'Time Sample'\n",
    "            'NBin',\n",
    "            'NFchanel',\n",
    "            'NPol',\n",
    "            'Calibrated?',\n",
    "            'S/N',\n",
    "            'Observation Time',\n",
    "            'Date (MJD)'\n",
    "            'Time of RFI Mask',\n",
    "            '% of RFI in obs',\n",
    "           'Backend']"
   ]
  },
  {
   "cell_type": "code",
   "execution_count": null,
   "metadata": {
    "collapsed": true
   },
   "outputs": [],
   "source": [
    "# Do the log with the current information. Use astropy table. \n",
    "\n",
    "file_name = pulsar[0]+'log.txt'\n",
    "if not os.path.exists(destination+file_name):\n",
    "    table = Table(logvar, names = lognames)\n",
    "    ascii.write(table,destination+file_name)\n",
    "    print ('*** A new pulsar log table for '+ file_name+ ' has been created ***') \n",
    "else:\n",
    "    table = ascii.read(destination+file_name)\n",
    "    table.add_row(logvar)\n",
    "    ascii.write(table,destination+file_name)    "
   ]
  },
  {
   "cell_type": "code",
   "execution_count": 17,
   "metadata": {},
   "outputs": [
    {
     "data": {
      "text/plain": [
       "58524.99572916655"
      ]
     },
     "execution_count": 17,
     "metadata": {},
     "output_type": "execute_result"
    }
   ],
   "source": [
    "tstart"
   ]
  },
  {
   "cell_type": "code",
   "execution_count": null,
   "metadata": {
    "collapsed": true
   },
   "outputs": [],
   "source": []
  }
 ],
 "metadata": {
  "kernelspec": {
   "display_name": "Python 2",
   "language": "python",
   "name": "python2"
  },
  "language_info": {
   "codemirror_mode": {
    "name": "ipython",
    "version": 2
   },
   "file_extension": ".py",
   "mimetype": "text/x-python",
   "name": "python",
   "nbconvert_exporter": "python",
   "pygments_lexer": "ipython2",
   "version": "2.7.13"
  }
 },
 "nbformat": 4,
 "nbformat_minor": 2
}
