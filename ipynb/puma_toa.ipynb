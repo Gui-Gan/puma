{
 "cells": [
  {
   "cell_type": "code",
   "execution_count": 3,
   "metadata": {
    "collapsed": true
   },
   "outputs": [],
   "source": [
    "#!/usr/bin/env python"
   ]
  },
  {
   "cell_type": "markdown",
   "metadata": {},
   "source": [
    "# PuMA toa"
   ]
  },
  {
   "cell_type": "markdown",
   "metadata": {},
   "source": [
    "### Python script for Time of Arrivals generation\n",
    "\n",
    "This script is intended to obtain a reasonable set of TOAs \n",
    "\n",
    "Version: 0.1\n",
    "\n",
    "Date: 11/3/19\n",
    "\n",
    "author: Luciano Combi"
   ]
  },
  {
   "cell_type": "code",
   "execution_count": 1,
   "metadata": {
    "collapsed": true,
    "scrolled": true
   },
   "outputs": [],
   "source": [
    "# Import standard packages\n",
    "\n",
    "import numpy as np\n",
    "import matplotlib.pyplot as mp\n",
    "import astropy \n",
    "from astropy.io import ascii\n",
    "from astropy.table import Table, Column, MaskedColumn\n",
    "from astropy import units as u\n",
    "import subprocess\n",
    "# We will need to execute shell scripts\n",
    "\n",
    "import sys \n",
    "import glob\n",
    "import os\n",
    "sys.path.append('/opt/pulsar/')\n",
    "import shutil\n",
    "import re\n",
    "import getopt\n",
    "\n",
    "\n",
    "# Import psrchive and rfifind libraries\n",
    "\n",
    "import psrchive \n",
    "import rfifind\n",
    "from sigproc import *"
   ]
  },
  {
   "cell_type": "code",
   "execution_count": 6,
   "metadata": {
    "collapsed": true
   },
   "outputs": [
    {
     "name": "stderr",
     "output_type": "stream",
     "text": [
      "usage: ipykernel_launcher.py [-h] [-t]\n",
      "ipykernel_launcher.py: error: unrecognized arguments: -f /home/jovyan/.local/share/jupyter/runtime/kernel-2e6014f0-5ed4-4976-b2b9-ddb85e67198e.json\n"
     ]
    },
    {
     "ename": "SystemExit",
     "evalue": "2",
     "output_type": "error",
     "traceback": [
      "An exception has occurred, use %tb to see the full traceback.\n",
      "\u001b[0;31mSystemExit\u001b[0m\u001b[0;31m:\u001b[0m 2\n"
     ]
    },
    {
     "name": "stderr",
     "output_type": "stream",
     "text": [
      "/opt/conda/envs/python2/lib/python2.7/site-packages/IPython/core/interactiveshell.py:2889: UserWarning: To exit: use 'exit', 'quit', or Ctrl-D.\n",
      "  warn(\"To exit: use 'exit', 'quit', or Ctrl-D.\", stacklevel=1)\n"
     ]
    }
   ],
   "source": [
    "# Let us enable a no timing option and a help. Future options of calibration an pazi\n",
    "\n",
    "import argparse\n",
    "parser = argparse.ArgumentParser()\n",
    "parser.add_argument(\"-t\", \"--template\", action=\"store_true\", default=False,\n",
    "                    help=\"use another existing template in timingfolder\")\n",
    "args = parser.parse_args()"
   ]
  },
  {
   "cell_type": "code",
   "execution_count": 2,
   "metadata": {
    "collapsed": true
   },
   "outputs": [],
   "source": [
    "# Open pfd.\n",
    "\n",
    "pfd = glob.glob('*.pfd')[0]\n",
    "arch = psrchive.Archive_load(pfd)\n",
    "source = arch.get_source()"
   ]
  },
  {
   "cell_type": "code",
   "execution_count": 12,
   "metadata": {},
   "outputs": [],
   "source": [
    "# Check if timing foler exist for the pulsar. If not, create it.\n",
    "\n",
    "if arch.get_telescope() == 'IAR1':\n",
    "    timingfolder= './../../../timing/A1/'\n",
    "elif arch.get_telescope() == 'IAR2':\n",
    "    timingfolder='./../../../timing/A2/'\n",
    "else:\n",
    "    print('The site of the telescope does not seem to be IAR')\n",
    "    exit()"
   ]
  },
  {
   "cell_type": "code",
   "execution_count": 14,
   "metadata": {},
   "outputs": [],
   "source": [
    "# Choose the template for folding\n",
    "\n",
    "if argst:\n",
    "    \n",
    "    if os.path.exists(timingfolder+source+'.default.std'):\n",
    "        usingtemplate = timingfolder+source+'.default.std'\n",
    "    else:\n",
    "        print ('WARNING: there is no {}.default.std! Timing will fail'.format(source))\n",
    "else:\n",
    "    \n",
    "    usingtempalte= timingfolder+source+'.std'"
   ]
  },
  {
   "cell_type": "code",
   "execution_count": 15,
   "metadata": {
    "collapsed": true
   },
   "outputs": [],
   "source": [
    "# Define TOAs destination:\n",
    "\n",
    "totaltoa =timingfolder+'all.tim'\n",
    "singletoa= arch.get_filename()+'.tim'\n",
    "temptoa = timingfolder+'tempall.tim'\n",
    "backuptoa = timingfolder+'backupall.tim'"
   ]
  },
  {
   "cell_type": "code",
   "execution_count": 20,
   "metadata": {},
   "outputs": [],
   "source": [
    "# Default option is rewrite if there are existing TOAs in all.\n",
    "\n",
    "if os.path.exists(totaltoa): #Check if there is a all.fil\n",
    "    \n",
    "    f = open(totaltoa,'r')\n",
    "    tempf = open(temptoa,'wb') #Create a new temporary toa file\n",
    "\n",
    "    for line in f:\n",
    "        tmp = line.split()\n",
    "        a = \" \".join(tmp)\n",
    "        if tmp[0] == pfd:\n",
    "            tempf.writelines(a)\n",
    "            tempf.write('\\n')\n",
    "\n",
    "    tempf.close()\n",
    "    f.close()\n",
    "    \n",
    "    shutil.copy(totaltoa,backuptoa)\n",
    "    shutil.copy(temptoa, totaltoa)\n",
    "    os.remove(temptoa)"
   ]
  },
  {
   "cell_type": "code",
   "execution_count": 21,
   "metadata": {
    "collapsed": true
   },
   "outputs": [],
   "source": [
    "# if JUMP flags are on, check the number of JUMP and write a new flag.\n",
    "\n",
    "flag= 'JUMP'\n",
    "\n",
    "if os.path.exists(totaltoa):\n",
    "    with open(totaltoa,'r') as f:\n",
    "        lines = f.read().splitlines()\n",
    "        last_line = lines[-1]\n",
    "        flagposition = last_line.split()[5]\n",
    "        nflag= int(flagposition[len(flag):])\n",
    "    \n",
    "    patflag = flag+str(nflag+1) #Increase the corresponding flag number.\n",
    "else:\n",
    "    patflag = flag+str(1)"
   ]
  },
  {
   "cell_type": "code",
   "execution_count": 28,
   "metadata": {
    "collapsed": true
   },
   "outputs": [],
   "source": [
    "# Define arguments\n",
    "def pat_args(nsubint):\n",
    "    return '-A PGS -f \"tempo2\" -X \"{}\" -s {} -jFD -j \"T {}\" '.format(patflag,usingtemplate,nsubint)"
   ]
  },
  {
   "cell_type": "code",
   "execution_count": 32,
   "metadata": {
    "collapsed": true
   },
   "outputs": [],
   "source": [
    "# Define general output\n",
    "pat_output_general= '>> {}'.format(totaltoa)\n",
    "\n",
    "# Define individual output\n",
    "pat_output_individual= '>> {}'.format(singletoa)\n"
   ]
  },
  {
   "cell_type": "code",
   "execution_count": 78,
   "metadata": {},
   "outputs": [],
   "source": [
    "# Do the pat for singleTOA to check how many intergrations are worth doing:\n",
    "\n",
    "tolerance = 1 # In useg\n",
    "moresubs= True\n",
    "subints= [30,15,10,5,3,2,1]\n",
    "i=0\n",
    "\n",
    "while moresubs:\n",
    "    \n",
    "    subprocess.call(['pat '+pat_args(subints[i])+pfd+pat_output_individual], shell=True)\n",
    "        \n",
    "    with open(singletoa,'r') as f:\n",
    "        next(f)\n",
    "        if all(float((x.split())[3])<tolerance for x in f):\n",
    "            moresubs= False\n",
    "        elif subints[i]==1: \n",
    "            print('Whole observations has errors > tolerance')\n",
    "        else:\n",
    "            i+=1"
   ]
  },
  {
   "cell_type": "code",
   "execution_count": 79,
   "metadata": {},
   "outputs": [
    {
     "data": {
      "text/plain": [
       "0"
      ]
     },
     "execution_count": 79,
     "metadata": {},
     "output_type": "execute_result"
    }
   ],
   "source": [
    "# Do the pat for totalTOAs\n",
    "\n",
    "\n",
    "subprocess.call(['pat '+pat_args(subints[i])+pfd+pat_output_general], shell=True)"
   ]
  }
 ],
 "metadata": {
  "kernelspec": {
   "display_name": "Python 2",
   "language": "python",
   "name": "python2"
  },
  "language_info": {
   "codemirror_mode": {
    "name": "ipython",
    "version": 2
   },
   "file_extension": ".py",
   "mimetype": "text/x-python",
   "name": "python",
   "nbconvert_exporter": "python",
   "pygments_lexer": "ipython2",
   "version": "2.7.13"
  }
 },
 "nbformat": 4,
 "nbformat_minor": 2
}
