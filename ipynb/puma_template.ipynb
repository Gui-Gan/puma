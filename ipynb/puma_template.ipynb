{
 "cells": [
  {
   "cell_type": "code",
   "execution_count": 3,
   "metadata": {
    "collapsed": true
   },
   "outputs": [],
   "source": [
    "#!/usr/bin/env python"
   ]
  },
  {
   "cell_type": "markdown",
   "metadata": {},
   "source": [
    "# PuMA template"
   ]
  },
  {
   "cell_type": "markdown",
   "metadata": {},
   "source": [
    "### Python script for template generator\n",
    "\n",
    "This script generates new templates from existing observation.\n",
    "\n",
    "Version: 0.1\n",
    "\n",
    "Date: 11/3/19\n",
    "\n",
    "author: Luciano Combi"
   ]
  },
  {
   "cell_type": "code",
   "execution_count": 1,
   "metadata": {
    "collapsed": true,
    "scrolled": true
   },
   "outputs": [],
   "source": [
    "# Import standard packages\n",
    "\n",
    "import numpy as np\n",
    "import matplotlib.pyplot as mp\n",
    "\n",
    "# We will need to execute shell scripts\n",
    "\n",
    "import subprocess\n",
    "import sys \n",
    "import glob\n",
    "import os\n",
    "sys.path.append('/opt/pulsar/')\n",
    "import shutil\n",
    "import getopt\n",
    "\n",
    "\n",
    "# Import psrchive and rfifind libraries\n",
    "\n",
    "import psrchive \n",
    "import rfifind\n",
    "from sigproc import *"
   ]
  },
  {
   "cell_type": "code",
   "execution_count": 2,
   "metadata": {
    "collapsed": true
   },
   "outputs": [],
   "source": [
    "# Open pfd.\n",
    "\n",
    "pfd = glob.glob('*.pfd')[0]\n",
    "arch = psrchive.Archive_load(pfd)\n",
    "source = arch.get_source()"
   ]
  },
  {
   "cell_type": "code",
   "execution_count": 3,
   "metadata": {
    "collapsed": true
   },
   "outputs": [],
   "source": [
    "# Check if timing foler exist for the pulsar. If not, create it.\n",
    "\n",
    "if arch.get_telescope() == 'IAR1':\n",
    "    timingfolder= './../../../timing/A1/'\n",
    "elif arch.get_telescope() == 'IAR2':\n",
    "    timingfolder='./../../../timing/A2/'\n",
    "else:\n",
    "    print('The site of the telescope does not seem to be IAR')\n",
    "    exit()\n",
    "    \n",
    "if not os.path.exists(timingfolder):\n",
    "    os.makedirs(tfolder)"
   ]
  },
  {
   "cell_type": "code",
   "execution_count": 4,
   "metadata": {
    "collapsed": true
   },
   "outputs": [],
   "source": [
    "# Create template variables:\n",
    "\n",
    "totalobservation = timingfolder+source+'.pfd'\n",
    "\n",
    "tmp= timingfolder+'tmp.pfd'"
   ]
  },
  {
   "cell_type": "code",
   "execution_count": 6,
   "metadata": {},
   "outputs": [
    {
     "name": "stdout",
     "output_type": "stream",
     "text": [
      "WARNING: this would be the first observation to create template. You should not do timing with this one\n"
     ]
    }
   ],
   "source": [
    "# Check if you have a seed:\n",
    "if not os.path.exists(totalobservation):\n",
    "    \n",
    "    print('WARNING: this would be the first observation to create template. You should not do timing with this one')\n",
    "    shutil.copy(pfd,totalobservation)"
   ]
  },
  {
   "cell_type": "code",
   "execution_count": 8,
   "metadata": {},
   "outputs": [
    {
     "data": {
      "text/plain": [
       "0"
      ]
     },
     "execution_count": 8,
     "metadata": {},
     "output_type": "execute_result"
    }
   ],
   "source": [
    "# Add current pfd to total pfd into a tmp.pfd\n",
    "    \n",
    "subprocess.call(['psradd', '-F','-P',pfd,totalobservation,'-o',tmp]) "
   ]
  },
  {
   "cell_type": "code",
   "execution_count": 9,
   "metadata": {
    "collapsed": true
   },
   "outputs": [],
   "source": [
    "# Compute the total snr of tmp and total    \n",
    "totalsnr =float(subprocess.check_output(['psrstat','-jTFp','-Q','-q','-c','snr',totalobservation]).strip('\\n') .strip(' '))\n",
    "tmpsnr =float(subprocess.check_output(['psrstat','-jTFp','-Q','-q','-c','snr',tmp]).strip('\\n'))\n",
    "    "
   ]
  },
  {
   "cell_type": "code",
   "execution_count": 13,
   "metadata": {},
   "outputs": [],
   "source": [
    "# Keep the one with the biggest snr.\n",
    "\n",
    "if totalsnr < tmpsnr:\n",
    "    os.remove(totalobservation)\n",
    "    os.rename(tmp, totalobservation)\n",
    "else:  \n",
    "    os.remove(tmp)\n",
    "        "
   ]
  },
  {
   "cell_type": "code",
   "execution_count": 16,
   "metadata": {},
   "outputs": [
    {
     "data": {
      "text/plain": [
       "0"
      ]
     },
     "execution_count": 16,
     "metadata": {},
     "output_type": "execute_result"
    }
   ],
   "source": [
    "# Create standard template:\n",
    "subprocess.call(['psrsmooth', '-n','-e','std',totalobservation])  "
   ]
  }
 ],
 "metadata": {
  "kernelspec": {
   "display_name": "Python 2",
   "language": "python",
   "name": "python2"
  },
  "language_info": {
   "codemirror_mode": {
    "name": "ipython",
    "version": 2
   },
   "file_extension": ".py",
   "mimetype": "text/x-python",
   "name": "python",
   "nbconvert_exporter": "python",
   "pygments_lexer": "ipython2",
   "version": "2.7.13"
  }
 },
 "nbformat": 4,
 "nbformat_minor": 2
}
