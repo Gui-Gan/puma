{
 "cells": [
  {
   "cell_type": "code",
   "execution_count": 1,
   "metadata": {},
   "outputs": [],
   "source": [
    "#!/usr/bin/env python"
   ]
  },
  {
   "cell_type": "markdown",
   "metadata": {},
   "source": [
    "## time stamp corrector"
   ]
  },
  {
   "cell_type": "markdown",
   "metadata": {},
   "source": [
    "Authors: L. Combi & F. García\n",
    "\n",
    "Date: 11/02/19\n",
    "\n",
    "This script corrects the time stamp of a raw Filterbank observation."
   ]
  },
  {
   "cell_type": "code",
   "execution_count": null,
   "metadata": {},
   "outputs": [],
   "source": [
    "import os, sys\n",
    "from sigproc import *\n",
    "import numpy as np\n",
    "from astropy.Time import Time\n",
    "import glob"
   ]
  },
  {
   "cell_type": "code",
   "execution_count": null,
   "metadata": {},
   "outputs": [],
   "source": [
    "# Make a list of all availabe Filterbank files in the folder\n",
    "\n",
    "fils = glob.glob('*.fil')"
   ]
  },
  {
   "cell_type": "code",
   "execution_count": null,
   "metadata": {},
   "outputs": [],
   "source": [
    "# Make a dic of all the starting time-stamps (ts)\n",
    "\n",
    "tsold = {}\n",
    "\n",
    "for x in fils:\n",
    "    \n",
    "       tsdic[x] = read_header(x)[0]['tstart']"
   ]
  },
  {
   "cell_type": "code",
   "execution_count": null,
   "metadata": {},
   "outputs": [],
   "source": [
    "# We transform the ts from MJDs to isot format, we correct the non zero values and we re reconvert.\n",
    "# Save them in a new dictionary.\n",
    "\n",
    "tsnew= {}\n",
    "\n",
    "for i in range(len(fils)):\n",
    "        tmp= Time(tsdic[fils[i]], format='mjd', scale='utc', precision=9)\n",
    "        newisot = tmp.isot[:18]+str(round(float(tmp.isot[18:])))\n",
    "        tmpmjd= Time(newisot, format='isot', scale='utc', precision=9)\n",
    "        trdic[fils[i]] = tmpmjd.mjd"
   ]
  },
  {
   "cell_type": "code",
   "execution_count": null,
   "metadata": {},
   "outputs": [],
   "source": [
    "for i in range(len(fils)):\n",
    "    \n",
    "    f = open(fils[i], 'rb')\n",
    "    \n",
    "    filhdr = {}\n",
    "    \n",
    "    newhdr = \"\"\n",
    "    \n",
    "    outfile = open(fils[i]+'tscorrected','wb')\n",
    "    \n",
    "    while 1:                                                              \n",
    "               \n",
    "            param, val = read_hdr_val(f, stdout=True)                        \n",
    "                \n",
    "            filhdr[param] = val                                     \n",
    "                                                                           \n",
    "             # Add lines here to correct timestamp\n",
    "            if param==\"tstart\":  val = trdic[fils[i]]              \n",
    "     \n",
    "             # Append to the new hdr string\n",
    "            newhdr += addto_hdr(param, val)\n",
    "     \n",
    "             # Break out of the loop if the header is over\n",
    "            if param==\"HEADER_END\":  break\n",
    "    \n",
    "    outfile.write(newhdr)\n",
    "    \n",
    "    hdrlen = f.tell()\n",
    "    \n",
    "    numbytes = os.stat(fils[i])[6] - hdrlen\n",
    "    \n",
    "    m=0\n",
    "    \n",
    "    while m < numbytes:\n",
    "        \n",
    "        towrite = f.read(100000)\n",
    "        m += 100000\n",
    "        outfile.write(towrite)\n",
    "    \n",
    "    towrite = f.read(numbytes-f.tell())\n",
    "    \n",
    "    outfile.write(towrite)\n",
    "    \n",
    "    outfile.close()   \n",
    "    "
   ]
  }
 ],
 "metadata": {
  "kernelspec": {
   "display_name": "Python 2",
   "language": "python",
   "name": "python2"
  },
  "language_info": {
   "codemirror_mode": {
    "name": "ipython",
    "version": 2
   },
   "file_extension": ".py",
   "mimetype": "text/x-python",
   "name": "python",
   "nbconvert_exporter": "python",
   "pygments_lexer": "ipython2",
   "version": "2.7.15rc1"
  }
 },
 "nbformat": 4,
 "nbformat_minor": 2
}
