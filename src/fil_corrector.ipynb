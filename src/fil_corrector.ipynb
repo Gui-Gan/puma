{
 "cells": [
  {
   "cell_type": "code",
   "execution_count": 1,
   "metadata": {},
   "outputs": [],
   "source": [
    "#!/usr/bin/env python"
   ]
  },
  {
   "cell_type": "markdown",
   "metadata": {},
   "source": [
    "## filterbank corrector"
   ]
  },
  {
   "cell_type": "markdown",
   "metadata": {},
   "source": [
    "Authors: L. Combi & F. García\n",
    "\n",
    "Date: 11/02/19\n",
    "\n",
    "This script corrects the time stamp of a raw Filterbank observation."
   ]
  },
  {
   "cell_type": "code",
   "execution_count": 1,
   "metadata": {
    "collapsed": true
   },
   "outputs": [
    {
     "ename": "ImportError",
     "evalue": "No module named sigproc",
     "output_type": "error",
     "traceback": [
      "\u001b[0;31m---------------------------------------------------------------------------\u001b[0m",
      "\u001b[0;31mImportError\u001b[0m                               Traceback (most recent call last)",
      "\u001b[0;32m<ipython-input-1-ff312fa40317>\u001b[0m in \u001b[0;36m<module>\u001b[0;34m()\u001b[0m\n\u001b[1;32m      1\u001b[0m \u001b[0;32mimport\u001b[0m \u001b[0mos\u001b[0m\u001b[0;34m,\u001b[0m \u001b[0msys\u001b[0m\u001b[0;34m\u001b[0m\u001b[0m\n\u001b[0;32m----> 2\u001b[0;31m \u001b[0;32mfrom\u001b[0m \u001b[0msigproc\u001b[0m \u001b[0;32mimport\u001b[0m \u001b[0;34m*\u001b[0m\u001b[0;34m\u001b[0m\u001b[0m\n\u001b[0m\u001b[1;32m      3\u001b[0m \u001b[0;32mimport\u001b[0m \u001b[0mnumpy\u001b[0m \u001b[0;32mas\u001b[0m \u001b[0mnp\u001b[0m\u001b[0;34m\u001b[0m\u001b[0m\n\u001b[1;32m      4\u001b[0m \u001b[0;32mfrom\u001b[0m \u001b[0mastropy\u001b[0m\u001b[0;34m.\u001b[0m\u001b[0mtime\u001b[0m \u001b[0;32mimport\u001b[0m \u001b[0mTime\u001b[0m\u001b[0;34m\u001b[0m\u001b[0m\n\u001b[1;32m      5\u001b[0m \u001b[0;32mimport\u001b[0m \u001b[0mglob\u001b[0m\u001b[0;34m\u001b[0m\u001b[0m\n",
      "\u001b[0;31mImportError\u001b[0m: No module named sigproc"
     ]
    }
   ],
   "source": [
    "import os, sys\n",
    "from sigproc import *\n",
    "import numpy as np\n",
    "from astropy.time import Time\n",
    "import glob\n",
    "import argparse\n",
    "from datetime import datetime\n",
    "from datetime import timedelta"
   ]
  },
  {
   "cell_type": "code",
   "execution_count": null,
   "metadata": {},
   "outputs": [],
   "source": [
    "# options to correct time stamp antenna\n",
    "\n",
    "parser = argparse.ArgumentParser()\n",
    "\n",
    "parser.add_argument(\"-t\", \"--correction\", action=\"store_true\", \n",
    "                    help=\"corrects antenna\")\n",
    "parser.add_argument(\"antenna\", type=int, choices=[1,2],\n",
    "                    help=\"antenna\")\n",
    "args = parser.parse_args()\n",
    "\n",
    "if args.antenna==1:\n",
    "    tid=19\n",
    "elif args.antenna ==2:\n",
    "    tid=20"
   ]
  },
  {
   "cell_type": "code",
   "execution_count": null,
   "metadata": {},
   "outputs": [],
   "source": [
    "# Make a list of all availabe Filterbank files in the folder\n",
    "\n",
    "fils = glob.glob('*.fil')"
   ]
  },
  {
   "cell_type": "code",
   "execution_count": null,
   "metadata": {},
   "outputs": [],
   "source": [
    "# For correcting timestemp\n",
    "# Make a dic of all the starting time-stamps (ts)\n",
    "\n",
    "tsold = {}\n",
    "\n",
    "for x in fils:\n",
    "    \n",
    "       tsold[x] = read_header(x)[0]['tstart']\n",
    "\n",
    "# We transform the ts from MJDs to isot format, we correct the non zero values and we re reconvert.\n",
    "# Save them in a new dictionary.\n",
    "\n",
    "tsnew= {}\n",
    "\n",
    "for i in range(len(fils)):\n",
    "    \n",
    "        tmp= Time(tsold[fils[i]], format='mjd', scale='utc', precision=9)\n",
    "        \n",
    "        a = tmp.datetime\n",
    "\n",
    "        # The script round the second but place here what you want to do with this.\n",
    "        \n",
    "        if a.microsecond > 900000:\n",
    "                b = a - timedelta(microseconds=a.microsecond) + timedelta(seconds=1)\n",
    "        else:\n",
    "                b = a - timedelta(microseconds=a.microsecond)\n",
    "\n",
    "        newdt = Time(b, format='datetime', scale = 'utc', precision=9)\n",
    "        \n",
    "        \n",
    "        tsnew[fils[i]] = newdt.mjd"
   ]
  },
  {
   "cell_type": "code",
   "execution_count": null,
   "metadata": {},
   "outputs": [],
   "source": [
    "for i in range(len(fils)):\n",
    "    \n",
    "    f = open(fils[i], 'rb')\n",
    "    \n",
    "    filhdr = {}\n",
    "    \n",
    "    newhdr = \"\"\n",
    "    \n",
    "    outfile = open('tscorrected'+fils[i],'wb')\n",
    "    \n",
    "    while 1:                                                              \n",
    "               \n",
    "            param, val = read_hdr_val(f, stdout=False)                        \n",
    "                \n",
    "            filhdr[param] = val                                     \n",
    "                                                                               \n",
    "            #changing these header parameters. \n",
    "      \n",
    "            if param==\"machine_id\":  val = 23\n",
    "            if param=='telescope_id': val = tid\n",
    "            if param=='tstart':\n",
    "                if args.correction:\n",
    "                    val = tsnew[fils[i]]\n",
    "                else:\n",
    "                    val= tsold[fils[i]]\n",
    "     \n",
    "             # Append to the new hdr string\n",
    "            newhdr += addto_hdr(param, val)\n",
    "     \n",
    "             # Break out of the loop if the header is over\n",
    "            if param==\"HEADER_END\":  break\n",
    "    \n",
    "    outfile.write(newhdr)\n",
    "    \n",
    "    hdrlen = f.tell()\n",
    "    \n",
    "    numbytes = os.stat(fils[i])[6] - hdrlen\n",
    "    \n",
    "    m=0\n",
    "    \n",
    "    while m < numbytes:\n",
    "        \n",
    "        towrite = f.read(1000000)\n",
    "        m += 1000000\n",
    "        outfile.write(towrite)\n",
    "    \n",
    "    towrite = f.read(numbytes-f.tell())\n",
    "    \n",
    "    outfile.write(towrite)\n",
    "    \n",
    "    outfile.close()   "
   ]
  }
 ],
 "metadata": {
  "kernelspec": {
   "display_name": "Python 2",
   "language": "python",
   "name": "python2"
  },
  "language_info": {
   "codemirror_mode": {
    "name": "ipython",
    "version": 2
   },
   "file_extension": ".py",
   "mimetype": "text/x-python",
   "name": "python",
   "nbconvert_exporter": "python",
   "pygments_lexer": "ipython2",
   "version": "2.7.15rc1"
  }
 },
 "nbformat": 4,
 "nbformat_minor": 2
}
