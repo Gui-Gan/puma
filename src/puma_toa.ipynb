{
 "cells": [
  {
   "cell_type": "code",
   "execution_count": 3,
   "metadata": {},
   "outputs": [],
   "source": [
    "#!/usr/bin/env python"
   ]
  },
  {
   "cell_type": "markdown",
   "metadata": {},
   "source": [
    "# PuMA log and TOAs extractor"
   ]
  },
  {
   "cell_type": "markdown",
   "metadata": {},
   "source": [
    "### Python script for TOAs extraction and .log file generation.\n",
    "\n",
    "This script is intended to gain control and check systematics in all PuMA observations. Can be adapted for particular projects though. It is expected to run after the pulsar_reduc routine. It works under the pulsar_reduc organisation scheme: /pulsar_name/yearmonthday/AX/ where AX could be A1 or A2 with (a) pulsar .fil files (b) calibration .fil files (c) .pfd files (d) .mask files.\n",
    "\n",
    "\n",
    "Version: 0.1\n",
    "Date: 1/4/19\n",
    "authors: Luciano Combi & Paula Kornecki"
   ]
  },
  {
   "cell_type": "code",
   "execution_count": null,
   "metadata": {},
   "outputs": [],
   "source": [
    "# Import standard packages\n",
    "import numpy as np\n",
    "import matplotlib.pyplot as mp\n",
    "import astropy \n",
    "from astropy.io import ascii\n",
    "from astropy.table import Table, Column, MaskedColumn\n",
    "\n",
    "# We will need to execute shell scripts\n",
    "\n",
    "import sys \n",
    "import glob\n",
    "import os\n",
    "sys.path.append('/opt/pulsar_software/presto-stockert/bin/')\n",
    "import shutil\n",
    "import getopt\n",
    "\n",
    "\n",
    "# Import psrchive and rfifind libraries\n",
    "\n",
    "import psrchive \n",
    "import rfifind\n",
    "from sigproc import *"
   ]
  },
  {
   "cell_type": "code",
   "execution_count": null,
   "metadata": {},
   "outputs": [],
   "source": [
    "# Let us enable a no timing option and a help. Future options of calibration an pazi\n",
    "\n",
    "import argparse\n",
    "parser = argparse.ArgumentParser()\n",
    "parser.add_argument(\"-n\", \"--notoa\", action=\"store_true\",\n",
    "                    help=\"save log and moves folders without obtaining TOAs\")\n",
    "args = parser.parse_args()\n",
    "\n",
    "if args.notoa:\n",
    "    antenna = 'N'\n",
    "    print('Saving log and moving files without obtaining toas')\n",
    "else: antenna = 'Y'"
   ]
  },
  {
   "cell_type": "code",
   "execution_count": null,
   "metadata": {},
   "outputs": [],
   "source": [
    "# Extract number of parts of raw files (This would be unnecesary if the adquisition soft. worked properly) and antenna information\n",
    "\n",
    "rawname = os.popen('ls *.fil | grep -v *pul_cal*.fil').read().split()\n",
    "nobs = len(rawname)\n",
    "firstraw = os.popen('header '+rawname[0]).read().split('\\n')\n",
    "\n",
    "# We should change 'machine' to 'telescope' once we re-compile PRESTO \n",
    "telid = firstraw[5].split(':')[1].strip()\n",
    "scoord = firstraw[6].split(' ')[19].strip()+'00'+firstraw[7].split(' ')[18].strip()+'00'\n",
    "tsample = firstraw[15].split(':')[1].strip()"
   ]
  },
  {
   "cell_type": "code",
   "execution_count": null,
   "metadata": {},
   "outputs": [],
   "source": [
    "# Open pfd file inside folder. Only one PSR pfd expected. Pazi not included yet\n",
    "# We use glob but we might as well use os.popen(ls).\n",
    "\n",
    "pfdname = glob.glob('*PSR*.pfd')[0]\n",
    "maskname = glob.glob('*.mask')[0]"
   ]
  },
  {
   "cell_type": "code",
   "execution_count": null,
   "metadata": {},
   "outputs": [],
   "source": [
    "# Correct metadata information. We should include a proper name function here (e.g. for vela)\n",
    "\n",
    "# Coord\n",
    "os.popen('psredit'+' -c coord='+scoord+' -m '+pfdname).read()\n",
    "\n",
    "# Reciever\n",
    "if telid == 'RTL_Filterbank':\n",
    "    os.popen('psredit'+' -c rcvr:name=AII'+' -m '+ pfdname).read()\n",
    "else:\n",
    "    os.popen('psredit'+' -c rcvr:name=AI'+' -m '+ pfdname).read()\n",
    "\n",
    "    # Backend\n",
    "os.popen('psredit'+' -c be:name=EB120'+ ' -m '+ pfdname).read()\n",
    "# Proyect\n",
    "os.popen('psredit'+' -c obs:projid=PuMA'+ ' -m '+ pfdname).read()\n"
   ]
  },
  {
   "cell_type": "code",
   "execution_count": null,
   "metadata": {},
   "outputs": [],
   "source": [
    "# In this step we should include a zapping option and calibration. \n",
    "# Since we do not have yet two polarization we skip calibration."
   ]
  },
  {
   "cell_type": "code",
   "execution_count": null,
   "metadata": {},
   "outputs": [],
   "source": [
    "# Save all relevant data from the pfd using rfifind and psrchive\n",
    "\n",
    "arch = psrchive.Archive_load(pfdname)\n",
    "maskrfi = rfifind.rfifind(maskname)\n",
    "mjd = arch.start_time()\n",
    "\n",
    "#Usable % of the observations due to RFI. We do not take into account pazi filters.\n",
    "\n",
    "maskarr = maskrfi.bytemask\n",
    "nbadint = float(np.count_nonzero(maskarr))\n",
    "ntotalint = float(len(maskrfi.goodints))*float(len(maskrfi.freqs))\n",
    "\n",
    "# Parameters (we also have nobs and coords)\n",
    "\n",
    "datemjd = [mjd.in_days()]\n",
    "pulsar =  ['J'+arch.get_source()[4:]]\n",
    "antenna = [arch.get_receiver_name()]\n",
    "bw = [arch.get_bandwidth()]\n",
    "freq = [arch.get_centre_frequency()]\n",
    "nbin = [arch.get_nbin()]\n",
    "nchan = [arch.get_nchan()]\n",
    "pol = [arch.get_npol()]\n",
    "calyn = [arch.get_poln_calibrated()]\n",
    "snr = [os.popen('psrstat -jTFp -Q -q -c snr '+pfdname).read().strip('\\n').strip(' ')]\n",
    "obstime = [arch.integration_length()/60]\n",
    "rfitime = [maskrfi.dtint]\n",
    "usablepercent = [nbadint/ntotalint*100]\n",
    "\n",
    "logvar = [pulsar, datemjd, antenna, scoord, bw, freq, nbin, nchan, pol, calyn, snr, obstime, rfitime, usablepercent]\n",
    "lognames = ['Name of pulsar', 'Date', 'Coordinates' 'Antenna', 'BW', 'Freq','NBin','NFchanel','NPol','Calibrated?','S/R','Observation Time','Time of RFI Mask','% of RFI in obs']"
   ]
  },
  {
   "cell_type": "code",
   "execution_count": null,
   "metadata": {},
   "outputs": [],
   "source": [
    "# Check if we are doing timing. Check if folder is created. If not, create.\n",
    "\n",
    "if timing == 'N':\n",
    "    destination = './../../pobs_notim/'\n",
    "else:\n",
    "    destination = './../../pobs_tim/'\n",
    "    \n",
    "if not os.path.exists(destination):\n",
    "    os.makedirs(destination)"
   ]
  },
  {
   "cell_type": "code",
   "execution_count": null,
   "metadata": {},
   "outputs": [],
   "source": [
    "# Copy pfd and polycos to processobs folder (should move calibrated files in the future)\n",
    "\n",
    "if timing == 'N':\n",
    "    os.system('cp ./'+pfdname+' ./../../pobs_notim/')\n",
    "    os.system('cp ./'+maskname+' ./../../pobs_tim/')\n",
    "else:\n",
    "    os.system('cp ./'+maskname+' ./../../pobs_tim/')\n",
    "    os.system('cp ./'+pfdname+' ./../../pobs_tim/')\n",
    "    os.system('cp ./'+pfdname+'.polycos'+' ./../../pobs_tim/')"
   ]
  },
  {
   "cell_type": "code",
   "execution_count": null,
   "metadata": {},
   "outputs": [],
   "source": [
    "# Create a new template for timing with existing observations.\n",
    "\n",
    "if not timing == 'N':\n",
    "    os.system('psradd -F -P 'pfdname'.std *.pfd')"
   ]
  },
  {
   "cell_type": "code",
   "execution_count": null,
   "metadata": {},
   "outputs": [],
   "source": [
    "# Do timing. If there is a preferred template, use that one and call it puslsarimp.std.\n",
    "\n",
    "if os.path.exist('../../pobs_tim/'+pulsar+'_imp.std'):\n",
    "    template = pulsar+'imp.std'\n",
    "    print('Using imported profile')\n",
    "else:\n",
    "    template = pulsar+'.std'\n",
    "\n",
    "def pat_tim(a):\n",
    "    if a == 1:\n",
    "    os.system('pat -F -j \"T '+str(a)+'\"'+' -f \"tempo2\" -s ../../pobs_tim/'+' '+template+' >> ../../pobs_tim/total'+pulsar+'.tim')\n",
    "    elif not a ==1:\n",
    "        os.system('pat -F -j \"T '+str(a)+'\"'+' -f \"tempo2\" -s ../../pobs_tim/'+' '+template' >> ../../pobs_tim/total'+str(a)+pulsar+'.tim')\n",
    "        os.system('pat -F -j \"T '+str(a)+'\"'+' -f \"tempo2\" -s ../../pobs_tim/'+' '+pfdname' > total'+str(a)+pulsar+'.tim')\n",
    "    \n",
    "if not timing == 'Y':\n",
    "    pat_tim(1) and pat_tim(10)"
   ]
  },
  {
   "cell_type": "code",
   "execution_count": null,
   "metadata": {},
   "outputs": [],
   "source": [
    "# Do the log with the current information. Use astropy table. \n",
    "\n",
    "file_name = pulsar[0]+'log.txt'\n",
    "if not os.path.exists(destination+file_name):\n",
    "    table = Table(logvar, names = lognames)\n",
    "    ascii.write(table,destination+file_name)\n",
    "    print ('*** A new pulsar log table for '+ file_name+ ' has been created ***') \n",
    "else:\n",
    "    table = ascii.read(destination+file_name)\n",
    "    table.add_row(logvar)\n",
    "    ascii.write(table,destination+file_name)    "
   ]
  }
 ],
 "metadata": {
  "kernelspec": {
   "display_name": "Python 2",
   "language": "python",
   "name": "python2"
  },
  "language_info": {
   "codemirror_mode": {
    "name": "ipython",
    "version": 2
   },
   "file_extension": ".py",
   "mimetype": "text/x-python",
   "name": "python",
   "nbconvert_exporter": "python",
   "pygments_lexer": "ipython2",
   "version": "2.7.15rc1"
  }
 },
 "nbformat": 4,
 "nbformat_minor": 2
}
